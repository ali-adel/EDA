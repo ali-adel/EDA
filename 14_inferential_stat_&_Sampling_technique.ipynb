{
  "nbformat": 4,
  "nbformat_minor": 0,
  "metadata": {
    "colab": {
      "provenance": [],
      "authorship_tag": "ABX9TyMNahIJkyJZwaMqrK3JFc8v",
      "include_colab_link": true
    },
    "kernelspec": {
      "name": "python3",
      "display_name": "Python 3"
    },
    "language_info": {
      "name": "python"
    }
  },
  "cells": [
    {
      "cell_type": "markdown",
      "metadata": {
        "id": "view-in-github",
        "colab_type": "text"
      },
      "source": [
        "<a href=\"https://colab.research.google.com/github/ali-adel/Statistics_EDA/blob/main/14_inferential_stat_%26_Sampling_technique.ipynb\" target=\"_parent\"><img src=\"https://colab.research.google.com/assets/colab-badge.svg\" alt=\"Open In Colab\"/></a>"
      ]
    },
    {
      "cell_type": "markdown",
      "source": [
        "# Inferential Statistics"
      ],
      "metadata": {
        "id": "i16bRGVrf9p3"
      }
    },
    {
      "cell_type": "markdown",
      "source": [
        "# We use it to estimate the population, because of taking a census from the population cost alot so we taking a sample from the population ,and inference the population parameter from the sample statistic"
      ],
      "metadata": {
        "id": "3JRwKDQKggpr"
      }
    },
    {
      "cell_type": "code",
      "source": [],
      "metadata": {
        "id": "AfNpiaKIgB-K"
      },
      "execution_count": null,
      "outputs": []
    }
  ]
}